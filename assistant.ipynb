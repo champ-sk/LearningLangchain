{
 "cells": [
  {
   "cell_type": "code",
   "execution_count": 1,
   "id": "5251f0ef",
   "metadata": {},
   "outputs": [],
   "source": [
    "from langchain_core.prompts import ChatPromptTemplate\n",
    "from langchain_openai import ChatOpenAI\n",
    "from langchain_core.output_parsers import PydanticOutputParser\n",
    "from pydantic import BaseModel , Field"
   ]
  },
  {
   "cell_type": "markdown",
   "id": "b219fd7d",
   "metadata": {},
   "source": [
    "### Assisgment:\n",
    "Create a simple assistant that uses any LLM and should be pydantic, when we ask about any product it should give you two information product Name, product details tentative price in USD (integer). use chat Prompt Template.\n"
   ]
  },
  {
   "cell_type": "code",
   "execution_count": 2,
   "id": "01ba2472",
   "metadata": {},
   "outputs": [],
   "source": [
    "class ProductInfo(BaseModel):\n",
    "    product_name: str = Field(..., description=\"The name of the product\")\n",
    "    Price_usd: int = Field(..., description=\"Tentative price of the product in USD\")\n"
   ]
  },
  {
   "cell_type": "code",
   "execution_count": 3,
   "id": "844934f1",
   "metadata": {},
   "outputs": [],
   "source": [
    "#creating an output parser using pydantic output parser\n",
    "output_parser = PydanticOutputParser(pydantic_object=ProductInfo)"
   ]
  },
  {
   "cell_type": "code",
   "execution_count": 23,
   "id": "c5b7b9ff",
   "metadata": {},
   "outputs": [],
   "source": [
    "format_instructions = output_parser.get_format_instructions()\n",
    "\n",
    "format_instructions = format_instructions.replace(\"{\", \"{{\").replace(\"}\", \"}}\")"
   ]
  },
  {
   "cell_type": "code",
   "execution_count": 24,
   "id": "245f56a2",
   "metadata": {},
   "outputs": [],
   "source": [
    "prompt = ChatPromptTemplate.from_messages([\n",
    "    (\n",
    "        \"system\",\n",
    "        \"You are a helpful AI product assistant. \"\n",
    "        \"You must respond in structured data according to the given format.\"\n",
    "    ),\n",
    "    (\n",
    "        \"user\",\n",
    "        \"Answer the user's query about a product.\\n\"\n",
    "        \"Output should follow this format strictly:\\n\" + format_instructions + \"\\n\\n\"\n",
    "        \"User query: {query}\"\n",
    "    )\n",
    "])"
   ]
  },
  {
   "cell_type": "code",
   "execution_count": 25,
   "id": "2d88d583",
   "metadata": {},
   "outputs": [
    {
     "data": {
      "text/plain": [
       "ChatPromptTemplate(input_variables=['query'], input_types={}, partial_variables={}, messages=[SystemMessagePromptTemplate(prompt=PromptTemplate(input_variables=[], input_types={}, partial_variables={}, template='You are a helpful AI product assistant. You must respond in structured data according to the given format.'), additional_kwargs={}), HumanMessagePromptTemplate(prompt=PromptTemplate(input_variables=['query'], input_types={}, partial_variables={}, template='Answer the user\\'s query about a product.\\nOutput should follow this format strictly:\\nThe output should be formatted as a JSON instance that conforms to the JSON schema below.\\n\\nAs an example, for the schema {{\"properties\": {{\"foo\": {{\"title\": \"Foo\", \"description\": \"a list of strings\", \"type\": \"array\", \"items\": {{\"type\": \"string\"}}}}}}, \"required\": [\"foo\"]}}\\nthe object {{\"foo\": [\"bar\", \"baz\"]}} is a well-formatted instance of the schema. The object {{\"properties\": {{\"foo\": [\"bar\", \"baz\"]}}}} is not well-formatted.\\n\\nHere is the output schema:\\n```\\n{{\"properties\": {{\"product_name\": {{\"description\": \"The name of the product\", \"title\": \"Product Name\", \"type\": \"string\"}}, \"Price_usd\": {{\"description\": \"Tentative price of the product in USD\", \"title\": \"Price Usd\", \"type\": \"integer\"}}}}, \"required\": [\"product_name\", \"Price_usd\"]}}\\n```\\n\\nUser query: {query}'), additional_kwargs={})])"
      ]
     },
     "execution_count": 25,
     "metadata": {},
     "output_type": "execute_result"
    }
   ],
   "source": [
    "prompt "
   ]
  },
  {
   "cell_type": "code",
   "execution_count": null,
   "id": "62b85eb3",
   "metadata": {},
   "outputs": [],
   "source": []
  },
  {
   "cell_type": "code",
   "execution_count": 26,
   "id": "6bf260f7",
   "metadata": {},
   "outputs": [],
   "source": [
    "llm = ChatOpenAI(model=\"gpt-3.5-turbo\", temperature=0)\n"
   ]
  },
  {
   "cell_type": "code",
   "execution_count": 27,
   "id": "6a6f615f",
   "metadata": {},
   "outputs": [],
   "source": [
    "chain = prompt | llm | output_parser\n"
   ]
  },
  {
   "cell_type": "code",
   "execution_count": 28,
   "id": "f4f064c2",
   "metadata": {},
   "outputs": [
    {
     "name": "stdout",
     "output_type": "stream",
     "text": [
      "product_name='iPhone 15 Pro' Price_usd=1299\n"
     ]
    }
   ],
   "source": [
    "response = chain.invoke({\"query\": \"Tell me about iPhone 15 Pro\"})\n",
    "print(response)"
   ]
  },
  {
   "cell_type": "code",
   "execution_count": null,
   "id": "c267d318",
   "metadata": {},
   "outputs": [],
   "source": []
  }
 ],
 "metadata": {
  "kernelspec": {
   "display_name": "Python 3",
   "language": "python",
   "name": "python3"
  },
  "language_info": {
   "codemirror_mode": {
    "name": "ipython",
    "version": 3
   },
   "file_extension": ".py",
   "mimetype": "text/x-python",
   "name": "python",
   "nbconvert_exporter": "python",
   "pygments_lexer": "ipython3",
   "version": "3.13.7"
  }
 },
 "nbformat": 4,
 "nbformat_minor": 5
}
